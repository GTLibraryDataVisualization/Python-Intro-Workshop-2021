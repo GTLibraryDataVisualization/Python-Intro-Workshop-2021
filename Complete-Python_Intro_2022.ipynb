{
  "nbformat": 4,
  "nbformat_minor": 0,
  "metadata": {
    "kernelspec": {
      "display_name": "Python 3",
      "language": "python",
      "name": "python3"
    },
    "language_info": {
      "codemirror_mode": {
        "name": "ipython",
        "version": 3
      },
      "file_extension": ".py",
      "mimetype": "text/x-python",
      "name": "python",
      "nbconvert_exporter": "python",
      "pygments_lexer": "ipython3",
      "version": "3.7.3"
    },
    "colab": {
      "name": "Intro_to_Python_2021",
      "provenance": []
    }
  },
  "cells": [
    {
      "cell_type": "markdown",
      "metadata": {
        "id": "-nKUfS2pQhvG"
      },
      "source": [
        "# Python 3 Introductory Workshop"
      ]
    },
    {
      "cell_type": "markdown",
      "metadata": {
        "id": "e_5aDfbIQhvM"
      },
      "source": [
        "### Topics\n",
        "    - Why Python?\n",
        "    - Variables\n",
        "    - Operators\n",
        "    - Collections\n",
        "    - Conditionals\n",
        "    - Loops"
      ]
    },
    {
      "cell_type": "markdown",
      "metadata": {
        "id": "crEu5G8XQhvO"
      },
      "source": [
        "### Why Python?\n",
        "Python is known for being one of the most versitile and easy to use languages\n",
        "    \n",
        "    - Simple syntax makes it easy to learn\n",
        "    - Easy and intuitive to read, even with minimal programming knowledge\n",
        "    - Great for prototyping and quickly writing working code\n",
        "    - Portable across systems; As long as Python is installed it will run on any operting system\n",
        "    \n",
        "Popular uses for Python include\n",
        "\n",
        "    - Mathematics and Big Data\n",
        "        Packages used for reading, manipulating, and analyzing data quickly(Numpy, Pandas)\n",
        "    - Data Visualization\n",
        "        Packages used for visualizing data on plots, graphs (Matplotlib, Plotly)\n",
        "    - Simple Scripting\n",
        "        Writing a functional program that performs an individual task (rasberry pi)"
      ]
    },
    {
      "cell_type": "markdown",
      "metadata": {
        "id": "qO9iINdYQhvQ"
      },
      "source": [
        "### Variables"
      ]
    },
    {
      "cell_type": "markdown",
      "metadata": {
        "id": "PyFrcZ8PQhvR"
      },
      "source": [
        "We need to be able to remember information for later, to do this we use variables.\n",
        "we can assign a variable a value with =\n",
        "\n",
        "Here, we're going to look at 4 variable types:\n",
        "    \n",
        "    -integers\n",
        "    -floats\n",
        "    -strings\n",
        "    -booleans\n",
        "\n",
        "Python is a \"dynamically typed language\"\n",
        "\n",
        "This means that we do not need to declare variable types, or tell the computer what type they are, we just trust Python to keep track for us."
      ]
    },
    {
      "cell_type": "markdown",
      "metadata": {
        "id": "h4kwW9yVQhvS"
      },
      "source": [
        "##### Integers\n",
        "\n",
        "integers; positive or negative numbers WITHOUT decimal places - the same as in math"
      ]
    },
    {
      "cell_type": "markdown",
      "metadata": {
        "id": "mqjLSsMdd7X6"
      },
      "source": [
        "If we want to see the value stored in a variable, we can use the built-in print( ) function.\n",
        "\n",
        "The print() function will show us whatever is inside the ( ) to our console, for Colab, the console will appear below our code blocks"
      ]
    },
    {
      "cell_type": "code",
      "metadata": {
        "id": "w9iQToKJQhvU",
        "colab": {
          "base_uri": "https://localhost:8080/"
        },
        "outputId": "e74d4f60-c65e-4c08-a0aa-2d674de69df4"
      },
      "source": [
        "a_int = 6\n",
        "print(a_int)"
      ],
      "execution_count": 4,
      "outputs": [
        {
          "output_type": "stream",
          "name": "stdout",
          "text": [
            "6\n"
          ]
        }
      ]
    },
    {
      "cell_type": "markdown",
      "metadata": {
        "id": "HsdHDijQQhvY"
      },
      "source": [
        "#### Floats\n",
        "floating point numbers; numbers WITH decimal places. "
      ]
    },
    {
      "cell_type": "code",
      "metadata": {
        "id": "drSDl5nZQhvb",
        "colab": {
          "base_uri": "https://localhost:8080/"
        },
        "outputId": "72c24a28-db22-4599-eec0-653377b092af"
      },
      "source": [
        "a_float = 6.6\n",
        "print(a_float)"
      ],
      "execution_count": 5,
      "outputs": [
        {
          "output_type": "stream",
          "name": "stdout",
          "text": [
            "6.6\n"
          ]
        }
      ]
    },
    {
      "cell_type": "markdown",
      "metadata": {
        "id": "X0PyOXFgQhvd"
      },
      "source": [
        "##### Strings\n",
        "sequence of characters surrounded by \"\" or ''"
      ]
    },
    {
      "cell_type": "code",
      "metadata": {
        "id": "Jwq4SmevQhve"
      },
      "source": [
        "a_string = \"hello\"\n",
        "b_string = \"17\"\n",
        "# Double quoted strings (\"\") can have single quotes ('') in them\n",
        "# Single quoted strings can have double quotes in them\n",
        "c_string = 'This is a pair of of \"double quotes\" in a string.'"
      ],
      "execution_count": 6,
      "outputs": []
    },
    {
      "cell_type": "markdown",
      "metadata": {
        "id": "Aa11RTN0Qhvf"
      },
      "source": [
        "We can access strings with [ ] with 0 being the first character and -1 being the last.\n",
        "[:] will also give us a range of characters "
      ]
    },
    {
      "cell_type": "code",
      "metadata": {
        "id": "8e5SU4eAQhvg",
        "colab": {
          "base_uri": "https://localhost:8080/"
        },
        "outputId": "43f53b5b-60a4-4335-fb68-6e6f4508cd17"
      },
      "source": [
        "a_string = \"hello\"\n",
        "print(a_string[0]) # h\n",
        "print(a_string[-1]) # o\n",
        "print(a_string[1:4]) #this will return the 3 characters including character 1 but not character 4 "
      ],
      "execution_count": 7,
      "outputs": [
        {
          "output_type": "stream",
          "name": "stdout",
          "text": [
            "h\n",
            "o\n",
            "ell\n"
          ]
        }
      ]
    },
    {
      "cell_type": "markdown",
      "metadata": {
        "id": "knzZi2UlQhvh"
      },
      "source": [
        "##### Booleans\n",
        "True / False values with the first letter capitalized"
      ]
    },
    {
      "cell_type": "code",
      "metadata": {
        "id": "t5VEm7daQhvi",
        "colab": {
          "base_uri": "https://localhost:8080/"
        },
        "outputId": "0c961a7d-c795-46bd-9982-32ac5ef1a275"
      },
      "source": [
        "#used in IF-conditionals such as checking if a variable is a specific datatype, if an integer is a specific number, etc\n",
        "\n",
        "a_bool = True # any non-zero number as a boolean will be cast to True\n",
        "b_bool = False # 0 will be cast to False\n",
        "\n",
        "a_string = \"hello\" # assignment (=)\n",
        "print(a_string == 'hello') # True\n",
        "print(a_string == 'gatech') # False"
      ],
      "execution_count": 8,
      "outputs": [
        {
          "output_type": "stream",
          "name": "stdout",
          "text": [
            "True\n",
            "False\n"
          ]
        }
      ]
    },
    {
      "cell_type": "markdown",
      "metadata": {
        "id": "VkhJjsgSQhvj"
      },
      "source": [
        "If we want to make a variable but have nothing in it, not even the value 0, we use None. This gets helpful in some more advanced programs, but for the basics, just know it exists. \n",
        "It is a useful thing to check when passing variables to different functions to ensure that input is correct. You always want to check that your input is not None and that it is not outside the bounds of what you need it to be for that function to ensure that someone can't break your code. "
      ]
    },
    {
      "cell_type": "code",
      "metadata": {
        "id": "MXQW9VnOQhvj"
      },
      "source": [
        "a_var = None"
      ],
      "execution_count": 9,
      "outputs": []
    },
    {
      "cell_type": "markdown",
      "metadata": {
        "id": "EDtnPTv0Qhvk"
      },
      "source": [
        "If we want to know the type of a variable, we can use the type( ) function"
      ]
    },
    {
      "cell_type": "code",
      "metadata": {
        "id": "6yRYuTpWQhvk",
        "colab": {
          "base_uri": "https://localhost:8080/"
        },
        "outputId": "19fe4dec-57fd-4f3d-fe1c-5b12f9b94602"
      },
      "source": [
        "print(type(a_int), a_int)\n",
        "print(type(1)) # integer\n",
        "print(type(\"hello\")) # string\n",
        "\n",
        "print(type(a_float), a_float)\n",
        "print(type(a_string), a_string)\n",
        "print(type(a_bool), a_bool)\n",
        "print(type(a_var), a_var)"
      ],
      "execution_count": 10,
      "outputs": [
        {
          "output_type": "stream",
          "name": "stdout",
          "text": [
            "<class 'int'> 6\n",
            "<class 'int'>\n",
            "<class 'str'>\n",
            "<class 'float'> 6.6\n",
            "<class 'str'> hello\n",
            "<class 'bool'> True\n",
            "<class 'NoneType'> None\n"
          ]
        }
      ]
    },
    {
      "cell_type": "markdown",
      "metadata": {
        "id": "Cd4rulE5Qhvl"
      },
      "source": [
        "You can name a variable almost anything you want with just a few rules\n",
        "\n",
        "    - can't start a variable name with numbers\n",
        "    - can't have a space in a variable name\n",
        "    \n",
        "You should generally follow a few guidelines as well\n",
        "\n",
        "    - start a variable name with a lowercase letter\n",
        "    - keep them descriptive"
      ]
    },
    {
      "cell_type": "markdown",
      "metadata": {
        "id": "4A6Qqs69Qhvm"
      },
      "source": [
        "### Operators"
      ]
    },
    {
      "cell_type": "markdown",
      "metadata": {
        "id": "DuHwgupYQhvm"
      },
      "source": [
        "Operators let us do things with variables and values, we've already seen one: =\n",
        "\n",
        "The basic operators to know are\n",
        "    \n",
        "    assignment: =\n",
        "    addition/concatenation: +\n",
        "    subtraction: -\n",
        "    multiplication: *\n",
        "    floating point division: /\n",
        "    integer division: //\n",
        "    modulo: %\n",
        "    exponentiation: **\n",
        "    comparisons: <, <=, >, >=, !=, ==\n",
        "    Boolean Operations: or, and, not"
      ]
    },
    {
      "cell_type": "markdown",
      "metadata": {
        "id": "OUNYaR5JQhvn"
      },
      "source": [
        "When we use + on two numbers, it works as addition just like in math, we can even use variables or even mix and match"
      ]
    },
    {
      "cell_type": "code",
      "metadata": {
        "id": "8LB0Y1FRQhvo",
        "colab": {
          "base_uri": "https://localhost:8080/"
        },
        "outputId": "803441ee-5652-436d-a82c-9714dda9b04f"
      },
      "source": [
        "print(a_int + a_float) # a_int = 6, a_float = 6.6\n",
        "print(3 + a_int) # a_int = 6"
      ],
      "execution_count": 11,
      "outputs": [
        {
          "output_type": "stream",
          "name": "stdout",
          "text": [
            "12.6\n",
            "9\n"
          ]
        }
      ]
    },
    {
      "cell_type": "code",
      "metadata": {
        "id": "tw4UWAJLQhvo"
      },
      "source": [
        "# Anything that comes after a # on the same line is a comment\n",
        "# Python ignores it, but it lets us humans take notes on what we did"
      ],
      "execution_count": 12,
      "outputs": []
    },
    {
      "cell_type": "markdown",
      "metadata": {
        "id": "VsbVITCRQhvp"
      },
      "source": [
        "When we use + on two strings, it concatenates them, we can use them with variables, strings, or both. + won't add spaces between strings though, so we have to do it manually."
      ]
    },
    {
      "cell_type": "code",
      "metadata": {
        "id": "T2NGFwIVQhvp",
        "colab": {
          "base_uri": "https://localhost:8080/"
        },
        "outputId": "7c3c5d62-99af-4daf-9811-b2fd792c1f66"
      },
      "source": [
        "print(a_string + b_string)\n",
        "print(a_string + \"\\n\" + b_string)\n",
        "print(a_string + \"\\t\" + b_string)\n",
        "print(a_string + \" \" + b_string)"
      ],
      "execution_count": 13,
      "outputs": [
        {
          "output_type": "stream",
          "name": "stdout",
          "text": [
            "hello17\n",
            "hello\n",
            "17\n",
            "hello\t17\n",
            "hello 17\n"
          ]
        }
      ]
    },
    {
      "cell_type": "markdown",
      "metadata": {
        "id": "M3rF0ckIQhvq"
      },
      "source": [
        "We can't mix and match strings and numbers though, if we want to, we have to \"cast\" them with Pythons built-in casting system."
      ]
    },
    {
      "cell_type": "code",
      "metadata": {
        "scrolled": true,
        "id": "I6wjbG5HQhvr",
        "colab": {
          "base_uri": "https://localhost:8080/"
        },
        "outputId": "1e4cfff1-2d58-4353-f496-2edc34b050fd"
      },
      "source": [
        "#checking for types is useful for debugging\n",
        "# print(4 + 'hello') causes an error\n",
        "\n",
        "value = 4\n",
        "print(value, type(value))\n",
        "\n",
        "value = float(value) # type-casting from integer to float \n",
        "print(value, type(value))\n",
        "\n",
        "value = str(value) # type-casting from float to string\n",
        "print(value, type(value))\n",
        "\n",
        "value = bool(value) # type-casting from string to boolean\n",
        "print(value, type(value))"
      ],
      "execution_count": 14,
      "outputs": [
        {
          "output_type": "stream",
          "name": "stdout",
          "text": [
            "4 <class 'int'>\n",
            "4.0 <class 'float'>\n",
            "4.0 <class 'str'>\n",
            "True <class 'bool'>\n"
          ]
        }
      ]
    },
    {
      "cell_type": "code",
      "metadata": {
        "id": "1nKteRKtQhvr",
        "colab": {
          "base_uri": "https://localhost:8080/"
        },
        "outputId": "ae9dbd46-d4ee-4534-cdac-647ad555edbb"
      },
      "source": [
        "# print(a_string + \" \" + value + \" \" + b_string) raises an error because value is a boolean type variable\n",
        "print(a_string + \" \" + str(value) + \" \" + b_string) # type-casting to string"
      ],
      "execution_count": 15,
      "outputs": [
        {
          "output_type": "stream",
          "name": "stdout",
          "text": [
            "hello True 17\n"
          ]
        }
      ]
    },
    {
      "cell_type": "markdown",
      "metadata": {
        "id": "SFCuOCROQhvt"
      },
      "source": [
        "Subtraction (-) works the same way as addition, but only works with numerical vaules\n"
      ]
    },
    {
      "cell_type": "code",
      "metadata": {
        "id": "Xg7U_8uxQhvt",
        "colab": {
          "base_uri": "https://localhost:8080/"
        },
        "outputId": "d09c8f66-6798-471e-8947-1a17918bba53"
      },
      "source": [
        "print(a_float) # a_float = 6.6\n",
        "print(a_float - a_int) # a_int = 6\n",
        "# There is a floating point precision error \n",
        "# It is not a bug, but typical result of handling floating-points"
      ],
      "execution_count": 16,
      "outputs": [
        {
          "output_type": "stream",
          "name": "stdout",
          "text": [
            "6.6\n",
            "0.5999999999999996\n"
          ]
        }
      ]
    },
    {
      "cell_type": "markdown",
      "metadata": {
        "id": "caALCCbhnqFb"
      },
      "source": [
        "Multiplication operator (*)"
      ]
    },
    {
      "cell_type": "code",
      "metadata": {
        "id": "nome67GZQhvu",
        "colab": {
          "base_uri": "https://localhost:8080/"
        },
        "outputId": "23fd9b71-2fc4-431d-900d-18aebc47f3e8"
      },
      "source": [
        "print(5 * 3)\n",
        "print(a_string * 3) # a_string = \"hello\"\n",
        "# what would you do to get the string \"hello hello hello\"\n",
        "\n",
        "print(2**4)"
      ],
      "execution_count": 17,
      "outputs": [
        {
          "output_type": "stream",
          "name": "stdout",
          "text": [
            "15\n",
            "hellohellohello\n",
            "16\n"
          ]
        }
      ]
    },
    {
      "cell_type": "markdown",
      "metadata": {
        "id": "SrgLf9q7nvtN"
      },
      "source": [
        "Division \n",
        "- floating point division: /\n",
        "- integer division: //\n",
        "\n",
        "Modulo (%)"
      ]
    },
    {
      "cell_type": "code",
      "metadata": {
        "id": "iy_aweTpQhvu",
        "colab": {
          "base_uri": "https://localhost:8080/"
        },
        "outputId": "177738e1-3d5d-4fa9-bafe-1aec0e9046bb"
      },
      "source": [
        "print(5 / 3)\n",
        "print(5 // 3) # this will drop the decimal part and floor it\n",
        "print(5 % 3) # this gives us the remainder"
      ],
      "execution_count": 18,
      "outputs": [
        {
          "output_type": "stream",
          "name": "stdout",
          "text": [
            "1.6666666666666667\n",
            "1\n",
            "2\n"
          ]
        }
      ]
    },
    {
      "cell_type": "markdown",
      "metadata": {
        "id": "AknyNibxpL0g"
      },
      "source": [
        "Comparison operators"
      ]
    },
    {
      "cell_type": "code",
      "metadata": {
        "id": "l47wmTXnQhvv",
        "colab": {
          "base_uri": "https://localhost:8080/"
        },
        "outputId": "14606511-ea84-467f-e60e-6d76ff030a61"
      },
      "source": [
        "# Comparison operators returning bools\n",
        "# its worth taking extra care: == is equals. = is assignment.\n",
        "\n",
        "print(5 < 3)\n",
        "print(5 > 3)\n",
        "print(5 >= 5) # greater than or equal to\n",
        "print(5 <= 4) # less than or equal to\n",
        "print(5 != 4) # not equals\n",
        "print(5 == 5) # equality!"
      ],
      "execution_count": 19,
      "outputs": [
        {
          "output_type": "stream",
          "name": "stdout",
          "text": [
            "False\n",
            "True\n",
            "True\n",
            "False\n",
            "True\n",
            "True\n"
          ]
        }
      ]
    },
    {
      "cell_type": "code",
      "metadata": {
        "colab": {
          "base_uri": "https://localhost:8080/"
        },
        "id": "zdMfPssupWIF",
        "outputId": "e4bcbeca-539e-4f0e-851a-b72fd099e223"
      },
      "source": [
        "# IS can be used to test the identity of OBJECTS\n",
        "# this is different from equality because it will check if its the exact same object\n",
        "int_a = 1\n",
        "string_a = \"1\"\n",
        "int_b = 1\n",
        "print (int_a is string_a)\n",
        "print(int_a is int_b)"
      ],
      "execution_count": 20,
      "outputs": [
        {
          "output_type": "stream",
          "name": "stdout",
          "text": [
            "False\n",
            "True\n"
          ]
        }
      ]
    },
    {
      "cell_type": "code",
      "metadata": {
        "id": "8r0SGZGYQhvv",
        "colab": {
          "base_uri": "https://localhost:8080/"
        },
        "outputId": "0d80fe3e-0512-4429-9048-6005ae0398d1"
      },
      "source": [
        "# boolean values can be combined using or, and, & not\n",
        "\n",
        "# OR returns True if either one is True\n",
        "print(True or False)\n",
        "print(False or False)\n",
        "\n",
        "# AND returns True only if both are True\n",
        "# Something cannot be be True AND False at the same time\n",
        "print(True and False)\n",
        "print(False and False)\n",
        "print(True and True)\n",
        "\n",
        "# NOT returns the opposite value (flip a boolean value)\n",
        "print(not True)\n",
        "print(not False)"
      ],
      "execution_count": 21,
      "outputs": [
        {
          "output_type": "stream",
          "name": "stdout",
          "text": [
            "True\n",
            "False\n",
            "False\n",
            "False\n",
            "True\n",
            "False\n",
            "True\n"
          ]
        }
      ]
    },
    {
      "cell_type": "markdown",
      "metadata": {
        "id": "IcCs380EQhvw"
      },
      "source": [
        "### Collections"
      ]
    },
    {
      "cell_type": "markdown",
      "metadata": {
        "id": "tas7527sQhvw"
      },
      "source": [
        "A lot of the time, we will be working with a lot of numbers, and we need some way to arrange those numbers that make sense. Python has a good range of collections to help us with this, the four most useful being:\n",
        "\n",
        "    - Sets\n",
        "    - Lists\n",
        "    - Tuples\n",
        "    - Dictionaries"
      ]
    },
    {
      "cell_type": "markdown",
      "metadata": {
        "id": "M5eCwz5RQhvx"
      },
      "source": [
        "###### Sets\n",
        "\n",
        "Sets are just like sets in math, they are a grouping of information that is NON-ORDERED and DO NOT CONTAIN DUPLICATES"
      ]
    },
    {
      "cell_type": "code",
      "metadata": {
        "id": "U6HKIKNIQhvx",
        "colab": {
          "base_uri": "https://localhost:8080/"
        },
        "outputId": "eb05f454-ad54-47b9-b0da-67836fa6000d"
      },
      "source": [
        "# There is only one way to make an empty set\n",
        "a_set = set()\n",
        "# We can make one with information already in it if we want\n",
        "a_set = {\"dog\", \"fish\", 42}\n",
        "b_set = set()\n",
        "\n",
        "# to add to a set we use the Set.add() function\n",
        "a_set.add(\"3\")\n",
        "a_set.add(\"dog\")\n",
        "\n",
        "print(a_set)\n",
        "print(b_set) # empty set"
      ],
      "execution_count": 22,
      "outputs": [
        {
          "output_type": "stream",
          "name": "stdout",
          "text": [
            "{'dog', 42, 'fish', '3'}\n",
            "set()\n"
          ]
        }
      ]
    },
    {
      "cell_type": "code",
      "metadata": {
        "colab": {
          "base_uri": "https://localhost:8080/"
        },
        "id": "oYf8Db8k2re7",
        "outputId": "96285b86-aede-40a1-c4e5-031b3d93e571"
      },
      "source": [
        "# Time for a new operator, \"in\"\n",
        "# We can check to see if something is in our set using the \"in\" operator\n",
        "print(\"dog\" in a_set)\n",
        "\n",
        "# we can remove from the set with Set.remove()\n",
        "a_set.remove(\"dog\")\n",
        "\n",
        "print(\"dog\" in a_set)\n",
        "print(a_set)"
      ],
      "execution_count": 23,
      "outputs": [
        {
          "output_type": "stream",
          "name": "stdout",
          "text": [
            "True\n",
            "False\n",
            "{42, 'fish', '3'}\n"
          ]
        }
      ]
    },
    {
      "cell_type": "markdown",
      "metadata": {
        "id": "B5MlBoMaQhvx"
      },
      "source": [
        "###### Lists\n",
        "\n",
        "Now we'll talk about lists\n",
        "Lists are great when we have some ordered data we want to save"
      ]
    },
    {
      "cell_type": "code",
      "metadata": {
        "id": "xgDVKNk8Qhvy",
        "colab": {
          "base_uri": "https://localhost:8080/"
        },
        "outputId": "bbdc56cc-141c-4d31-d0fb-8a745cc57072"
      },
      "source": [
        "# There are two ways to make an empty list (I recommend the first)\n",
        "a_list = list()\n",
        "a_list = []\n",
        "# We can make one with information already in it if we want\n",
        "a_list = [1,2,3,\"dog\",\"cat\",\"fish\",\"dog\"]\n",
        "\n",
        "# We can access a list just with []\n",
        "print(a_list[2])\n",
        "a_list[2] = \"kitten\"\n",
        "print(a_list)"
      ],
      "execution_count": 24,
      "outputs": [
        {
          "output_type": "stream",
          "name": "stdout",
          "text": [
            "3\n",
            "[1, 2, 'kitten', 'dog', 'cat', 'fish', 'dog']\n"
          ]
        }
      ]
    },
    {
      "cell_type": "code",
      "metadata": {
        "colab": {
          "base_uri": "https://localhost:8080/"
        },
        "id": "lsAIZke74Lha",
        "outputId": "feced36a-74fe-46fd-bd0c-97c2e64eda6c"
      },
      "source": [
        "# We can add to the end of a list with List.append()\n",
        "a_list.append(\"mouse\")\n",
        "a_list.insert(3, \"hello\") # add hello to the location of index 3\n",
        "print(a_list)\n",
        "\n",
        "# We can remove an item using List.remove()\n",
        "a_list.remove(\"kitten\")\n",
        "print(a_list)"
      ],
      "execution_count": 25,
      "outputs": [
        {
          "output_type": "stream",
          "name": "stdout",
          "text": [
            "[1, 2, 'kitten', 'hello', 'dog', 'cat', 'fish', 'dog', 'mouse']\n",
            "[1, 2, 'hello', 'dog', 'cat', 'fish', 'dog', 'mouse']\n"
          ]
        }
      ]
    },
    {
      "cell_type": "code",
      "metadata": {
        "id": "_oLmy29PQhvy",
        "colab": {
          "base_uri": "https://localhost:8080/"
        },
        "outputId": "e08740b9-cdb2-4862-e713-77c88bced713"
      },
      "source": [
        "# There are a few ways to remove from a list\n",
        "# List.pop() will remove and return the value at the LOCATION we want\n",
        "# we can save it to a variable for later!\n",
        "popped = a_list.pop(2)\n",
        "print(popped)\n",
        "\n",
        "# if we dont specify, the LAST element will be removed\n",
        "a_list.pop()\n",
        "print(a_list)"
      ],
      "execution_count": 26,
      "outputs": [
        {
          "output_type": "stream",
          "name": "stdout",
          "text": [
            "hello\n",
            "[1, 2, 'dog', 'cat', 'fish', 'dog']\n"
          ]
        }
      ]
    },
    {
      "cell_type": "code",
      "metadata": {
        "colab": {
          "base_uri": "https://localhost:8080/"
        },
        "id": "slRdAj2i4cNV",
        "outputId": "32f1b633-5a8b-46cc-c3b2-8e435cabc762"
      },
      "source": [
        "# If we know a value and want to remove THE FIRST OCCURRENCE in our list,\n",
        "# we can use List.remove()\n",
        "# since we already know what we want to get rid of, List.remove() doesnt return anything\n",
        "a_list.remove(\"dog\")\n",
        "print(a_list)"
      ],
      "execution_count": 27,
      "outputs": [
        {
          "output_type": "stream",
          "name": "stdout",
          "text": [
            "[1, 2, 'cat', 'fish', 'dog']\n"
          ]
        }
      ]
    },
    {
      "cell_type": "markdown",
      "metadata": {
        "id": "VmJMqG19Qhvz"
      },
      "source": [
        "###### Tuples\n",
        "\n",
        "Next we'll touch on Tuples\n",
        "We use tuples when we have a small amount of ordered data we want to save"
      ]
    },
    {
      "cell_type": "code",
      "metadata": {
        "id": "qngWvtWqQhvz",
        "colab": {
          "base_uri": "https://localhost:8080/"
        },
        "outputId": "162fa59c-bcb1-4934-80af-c76024357618"
      },
      "source": [
        "# Theres only one way to make tuple\n",
        "a_tup = (1, 2, 3, \"dog\")\n",
        "\n",
        "# just like with a string and a list, we can access a tuple using []\n",
        "\n",
        "print(a_tup[1]) # remember we count from 0 in Python programming!"
      ],
      "execution_count": 28,
      "outputs": [
        {
          "output_type": "stream",
          "name": "stdout",
          "text": [
            "2\n"
          ]
        }
      ]
    },
    {
      "cell_type": "markdown",
      "metadata": {
        "id": "2DGSevqEQhv0"
      },
      "source": [
        "Once we make a tuple, we can't change it. This is the reason we would pick a tuple over a List.\n",
        "If we want to change it, we have to make a new tuple\n",
        "we can however, assign that tuple to the same variable as the old one"
      ]
    },
    {
      "cell_type": "code",
      "metadata": {
        "id": "FIpXk6tOQhv0",
        "colab": {
          "base_uri": "https://localhost:8080/"
        },
        "outputId": "73ea922e-91ec-4329-c6f5-aca87240ad6b"
      },
      "source": [
        "a_tup = (1,2,3,\"dog\") # so things don't break if you re-run\n",
        "\n",
        "# a_tup[1] = 1 # Python yells at us!\n",
        "\n",
        "b_tup = (a_tup[0], \"cat\", a_tup[2], a_tup[3], \"dog\")\n",
        "\n",
        "print(a_tup)\n",
        "print(b_tup)"
      ],
      "execution_count": 29,
      "outputs": [
        {
          "output_type": "stream",
          "name": "stdout",
          "text": [
            "(1, 2, 3, 'dog')\n",
            "(1, 'cat', 3, 'dog', 'dog')\n"
          ]
        }
      ]
    },
    {
      "cell_type": "markdown",
      "metadata": {
        "id": "BTm5VelBQhv1"
      },
      "source": [
        "###### Dictionaries\n",
        "\n",
        "Dictionaries have information stored in Key:Value pairs, it lets us associate data with other data rather than just an index (or location)"
      ]
    },
    {
      "cell_type": "code",
      "metadata": {
        "id": "fifUmarFQhv1",
        "colab": {
          "base_uri": "https://localhost:8080/"
        },
        "outputId": "0b678215-19fd-44a6-fa08-c9d2d27fd0cb"
      },
      "source": [
        "# There are two ways to make an empty dictionary\n",
        "a_dict = dict()\n",
        "a_dict = {}\n",
        "\n",
        "# If we want to make one with information already in it\n",
        "a_dict = {\"StudentNo\":5555, \"major\":\"Computer Science\"}\n",
        "print(a_dict)\n",
        "\n",
        "# We can add to the dictionary by defining a NEW KEY\n",
        "a_dict['name'] = 'Derek'\n",
        "print(a_dict)\n",
        "\n",
        "# If the key is already in the dictionary, we OVERWRITE the old data, its gone forever\n",
        "a_dict['StudentNo'] = 7777\n",
        "\n",
        "print(a_dict)"
      ],
      "execution_count": 30,
      "outputs": [
        {
          "output_type": "stream",
          "name": "stdout",
          "text": [
            "{'StudentNo': 5555, 'major': 'Computer Science'}\n",
            "{'StudentNo': 5555, 'major': 'Computer Science', 'name': 'Derek'}\n",
            "{'StudentNo': 7777, 'major': 'Computer Science', 'name': 'Derek'}\n"
          ]
        }
      ]
    },
    {
      "cell_type": "code",
      "metadata": {
        "id": "6OiZU3vcQhv2",
        "colab": {
          "base_uri": "https://localhost:8080/"
        },
        "outputId": "4b5669a2-a164-4819-c099-8287005cdfdc"
      },
      "source": [
        "# If we know a key, we can go ahead and get the value from it\n",
        "# If we want to save it for later we can store in in a variable\n",
        "print(a_dict[\"StudentNo\"])\n",
        "a_major = a_dict['major']\n",
        "\n",
        "# If we don't know a key, we can get a list of keys back!\n",
        "print(a_dict.keys())\n",
        "print(a_dict.values())\n",
        "\n",
        "# If we want to remove something from the dictionary we use Dict.pop()\n",
        "# we need to tell it what key we want removed\n",
        "# it gives us the databack to save\n",
        "popped = a_dict.pop(\"major\")\n",
        "print(a_dict)"
      ],
      "execution_count": 31,
      "outputs": [
        {
          "output_type": "stream",
          "name": "stdout",
          "text": [
            "7777\n",
            "dict_keys(['StudentNo', 'major', 'name'])\n",
            "dict_values([7777, 'Computer Science', 'Derek'])\n",
            "{'StudentNo': 7777, 'name': 'Derek'}\n"
          ]
        }
      ]
    },
    {
      "cell_type": "code",
      "metadata": {
        "colab": {
          "base_uri": "https://localhost:8080/"
        },
        "id": "-41ppVvtAr0v",
        "outputId": "bb548f08-a91c-4d5a-e12e-6342ea41953f"
      },
      "source": [
        "b_dict = {\"StudentNo\":3333, \"major\":\"Computer Engineering\"}\n",
        "list_student = [a_dict, b_dict]\n",
        "print(list_student)"
      ],
      "execution_count": 32,
      "outputs": [
        {
          "output_type": "stream",
          "name": "stdout",
          "text": [
            "[{'StudentNo': 7777, 'name': 'Derek'}, {'StudentNo': 3333, 'major': 'Computer Engineering'}]\n"
          ]
        }
      ]
    },
    {
      "cell_type": "markdown",
      "metadata": {
        "id": "3HkP0dw6Qhv2"
      },
      "source": [
        "Tuples, Lists, Sets, and Dictionaries can hold any and all kinds of data we want. So we can put a List inside a List, a Dictionary inside a Dictionary, or a List inside a Set. Though its best to avoid doing this unless you need to."
      ]
    },
    {
      "cell_type": "markdown",
      "metadata": {
        "id": "2Hr-CV3ZQhv3"
      },
      "source": [
        "### Aside: Code Blocks and Control Flow\n",
        "Python seperates code into (possibly nested) blocks through indentation / whitespace. These blocks get executed or skipped as a single unit.\n",
        "\n",
        "Georgia Tech's CS Classes prefer (and I recommend) an intentation level of 4 spaces as the standard indentation level.\n",
        "\n",
        "This is a complex topic; We'll explore and visualize code blocks and their execution as we discuss conditionals and loops in the following section."
      ]
    },
    {
      "cell_type": "markdown",
      "metadata": {
        "id": "IdEe-cu8Qhv3"
      },
      "source": [
        "### Conditionals"
      ]
    },
    {
      "cell_type": "markdown",
      "metadata": {
        "id": "6ATPVhyNQhv3"
      },
      "source": [
        "Conditional statements are used to execute a certain command only if certain requirements are met.\n",
        "\n",
        "The basic conditionals are if, elif, and else.\n",
        "\n",
        "ifs are interpreted from start to end, so it will first interpret the if statement, then move to elif in the order they were written, then finally the else (note: elif and else ARE NOT required)"
      ]
    },
    {
      "cell_type": "code",
      "metadata": {
        "scrolled": true,
        "id": "RwUUHFYWQhv4",
        "colab": {
          "base_uri": "https://localhost:8080/"
        },
        "outputId": "8cc04aef-7953-4fd0-acae-13ebaa9c9b1d"
      },
      "source": [
        "print(a_tup)"
      ],
      "execution_count": 33,
      "outputs": [
        {
          "output_type": "stream",
          "name": "stdout",
          "text": [
            "(1, 2, 3, 'dog')\n"
          ]
        }
      ]
    },
    {
      "cell_type": "markdown",
      "metadata": {
        "id": "FqwYZeiGQhv5"
      },
      "source": [
        "We end the line containing the conditional with a :\n",
        "The : tells python that the next line should be a nested block of code; our print() statement in this case.\n",
        "\n",
        "The elif conditional is only evaluated if the original if statement fails.\n",
        "the else conditional is only evaluated if both the original if statement and all elifs between fail.\n",
        "\n",
        "Because the blocks of code associated with the elif conditional and the else conditional, we skip them as well.\n",
        "\n"
      ]
    },
    {
      "cell_type": "code",
      "metadata": {
        "id": "u_J4id4DQhv4",
        "colab": {
          "base_uri": "https://localhost:8080/"
        },
        "outputId": "80ea7e41-b28c-49e0-bab6-c338835a05ae"
      },
      "source": [
        "#allows you to layer out your logic\n",
        "#allows you do different things with different parts of your data\n",
        "if \"dog\" in a_tup:\n",
        "    print(\"bark\")\n",
        "elif \"cat\" in a_tup:\n",
        "    print(\"meow\")\n",
        "else:\n",
        "    print(\"I am not a dog or cat\")"
      ],
      "execution_count": 34,
      "outputs": [
        {
          "output_type": "stream",
          "name": "stdout",
          "text": [
            "bark\n"
          ]
        }
      ]
    },
    {
      "cell_type": "code",
      "metadata": {
        "id": "SU_0AoNaQhv5",
        "colab": {
          "base_uri": "https://localhost:8080/"
        },
        "outputId": "88a20b1e-e645-48f6-cae9-ab8f0380e027"
      },
      "source": [
        "if \"dog\" in a_tup:\n",
        "    # since there is an if directly after this, this if statement stands alone\n",
        "    print(\"bark\")\n",
        "if \"mouse\" in a_tup:\n",
        "    print(\"squeak\")\n",
        "else:\n",
        "    # This else statement belongs to the If Directly above it. The first if is independent\n",
        "    print(\"I am not a dog or a mouse\")\n",
        "# therefore both the first if, and the else statement are executed."
      ],
      "execution_count": 35,
      "outputs": [
        {
          "output_type": "stream",
          "name": "stdout",
          "text": [
            "bark\n",
            "I am not a dog or a mouse\n"
          ]
        }
      ]
    },
    {
      "cell_type": "markdown",
      "metadata": {
        "id": "mUF6ir_NQhv5"
      },
      "source": [
        "### For loops:\n",
        "Probably the most powerful tool in a programming language is the ability to interate over every item with one statement this is done using for loops Python has a very simple method for writing for loops"
      ]
    },
    {
      "cell_type": "code",
      "metadata": {
        "id": "GL_k3a77Qhv6",
        "colab": {
          "base_uri": "https://localhost:8080/"
        },
        "outputId": "874af8eb-143a-4734-ef86-d0a3291eb997"
      },
      "source": [
        "# x is representing an item in the list\n",
        "a_list = [1,2,3,\"dog\",\"cat\",\"fish\",\"dog\"]\n",
        "for item in a_list:\n",
        "     print(item)"
      ],
      "execution_count": 36,
      "outputs": [
        {
          "output_type": "stream",
          "name": "stdout",
          "text": [
            "1\n",
            "2\n",
            "3\n",
            "dog\n",
            "cat\n",
            "fish\n",
            "dog\n"
          ]
        }
      ]
    },
    {
      "cell_type": "code",
      "metadata": {
        "id": "95k1FPoKQhv6"
      },
      "source": [
        "# Two functions useful for going through a list are len() and range() len() will return an integer that is the length of a collection\n",
        "\n",
        "# range() will generate a list of numbers we can use, usually in a loop we can call range with 1, 2, or 3 arguments\n",
        "\n",
        "# if we pass one input to range(x), it generates a list from 0 (inclusive) to x (exclusive)\n",
        "# if we pass two inputs to range(x,y) it generates a list from x (inclusive) to y (exclusive)\n",
        "# if we pass three inputs to range(x,y,z) it generates a list from x to y using a step or increment of size z. z can be negative or positive."
      ],
      "execution_count": 37,
      "outputs": []
    },
    {
      "cell_type": "code",
      "metadata": {
        "id": "zYmWFFSHQhv7",
        "colab": {
          "base_uri": "https://localhost:8080/"
        },
        "outputId": "0b3540fe-897d-4831-8887-514d9715d5c8"
      },
      "source": [
        "# Here is a more complex for loop using the range() function\n",
        "\n",
        "for i in range(5):\n",
        "    print(i)\n",
        "\n",
        "print(\"end of loop.\" + \"\\n\")\n",
        "\n",
        "# If we input 5, x starts at 0 and increments until 4.\n",
        "# It doesn't increment to 5 because the range parameter is exclusive."
      ],
      "execution_count": 38,
      "outputs": [
        {
          "output_type": "stream",
          "name": "stdout",
          "text": [
            "0\n",
            "1\n",
            "2\n",
            "3\n",
            "4\n",
            "end of loop.\n",
            "\n"
          ]
        }
      ]
    },
    {
      "cell_type": "code",
      "metadata": {
        "colab": {
          "base_uri": "https://localhost:8080/"
        },
        "id": "6Cs3HcHjHrlg",
        "outputId": "32d1342e-b8b0-40de-c496-ec952fba829c"
      },
      "source": [
        "# Using two values, the start and stop values\n",
        "start = 1\n",
        "stop = 5\n",
        "for j in range(start, stop):\n",
        "    print(j)\n",
        "print(\"end of loop 2\" + \"\\n\")"
      ],
      "execution_count": 39,
      "outputs": [
        {
          "output_type": "stream",
          "name": "stdout",
          "text": [
            "1\n",
            "2\n",
            "3\n",
            "4\n",
            "end of loop 2\n",
            "\n"
          ]
        }
      ]
    },
    {
      "cell_type": "code",
      "metadata": {
        "colab": {
          "base_uri": "https://localhost:8080/"
        },
        "id": "eqHoqiw7Hp5A",
        "outputId": "2cb59e61-3490-498d-a467-f1ab2337aac8"
      },
      "source": [
        "# Using three values, the start, stop, and step values\n",
        "start = 1\n",
        "stop = 7\n",
        "step = 2\n",
        "for k in range(start, stop, step):\n",
        "    print(k)\n",
        "print(\"end of loop 3\" + \"\\n\")"
      ],
      "execution_count": 40,
      "outputs": [
        {
          "output_type": "stream",
          "name": "stdout",
          "text": [
            "1\n",
            "3\n",
            "5\n",
            "end of loop 3\n",
            "\n"
          ]
        }
      ]
    },
    {
      "cell_type": "markdown",
      "metadata": {
        "id": "MwYM306jJ0s-"
      },
      "source": [
        "len() method returns the length of a list, string, dictionary, or any other iterable data format in Python. \n",
        "\n",
        "If we use len() method on a list, it returns the number of items in the list."
      ]
    },
    {
      "cell_type": "code",
      "metadata": {
        "colab": {
          "base_uri": "https://localhost:8080/"
        },
        "id": "dFt1JaQpHn3l",
        "outputId": "3f1a1d5a-b4bb-477b-f528-ce030e23fe1c"
      },
      "source": [
        "# Finally, we can use this to access a list.\n",
        "a_list = [1,2,3,\"dog\",\"cat\"]\n",
        "for l in range(len(a_list)):\n",
        "    print(a_list[l])\n",
        "print(\"end of list (indexing)\")\n",
        "print()\n",
        "\n",
        "for item in a_list:\n",
        "    print(item)\n",
        "print(\"end of list (iterate over elements)\")"
      ],
      "execution_count": 41,
      "outputs": [
        {
          "output_type": "stream",
          "name": "stdout",
          "text": [
            "1\n",
            "2\n",
            "3\n",
            "dog\n",
            "cat\n",
            "end of list (indexing)\n",
            "\n",
            "1\n",
            "2\n",
            "3\n",
            "dog\n",
            "cat\n",
            "end of list (iterate over elements)\n"
          ]
        }
      ]
    },
    {
      "cell_type": "markdown",
      "metadata": {
        "id": "mJHTprLKQhv7"
      },
      "source": [
        "### While Loops:\n",
        "On the other hand while loops will allow you to keep running a block of code until a condition is met. While a for loop can do the same thing as a while loop, they have different strengths for different use cases. A while loop to do the same thing as the for loop above is more complex"
      ]
    },
    {
      "cell_type": "code",
      "metadata": {
        "id": "mw5YW8hgQhv7",
        "colab": {
          "base_uri": "https://localhost:8080/"
        },
        "outputId": "77d6adbe-0e13-4900-98c8-c41f66a3f4c4"
      },
      "source": [
        "# This accomplishes the same thing as the above for loop\n",
        "# We would generally use the for loop instead of while loop in this case\n",
        "i = 0\n",
        "a_list = [1,2,3,\"dog\",\"cat\",\"fish\",\"dog\"]\n",
        "while i < len(a_list):\n",
        "    print(a_list[i])\n",
        "    i = i + 1\n",
        "    \n",
        "# Unlike the for loop, you need to manually increment your index variable so that the while loop doesn't run forever"
      ],
      "execution_count": 42,
      "outputs": [
        {
          "output_type": "stream",
          "name": "stdout",
          "text": [
            "1\n",
            "2\n",
            "3\n",
            "dog\n",
            "cat\n",
            "fish\n",
            "dog\n"
          ]
        }
      ]
    },
    {
      "cell_type": "markdown",
      "metadata": {
        "id": "PMhOzWt3Qhv8"
      },
      "source": [
        "In the above example, theres not really a reason to use a while loop instead of a for loop. But a while loop's condition can be anything, so it can be really powerful."
      ]
    },
    {
      "cell_type": "code",
      "metadata": {
        "id": "NO3-5sAqQhv8",
        "colab": {
          "base_uri": "https://localhost:8080/"
        },
        "outputId": "720d98dc-e8e9-48b0-fe62-50464c4b8328"
      },
      "source": [
        "# In this instance, the condition to loop is whether the item at the index in the list is not a string\n",
        "# As soon as the item at the current index is a string, we exit loop\n",
        "i = 0\n",
        "a_list = [1,2,3,\"dog\",\"cat\",\"fish\",\"dog\"]\n",
        "while type(a_list[i]) is not str:\n",
        "    print(a_list[i])\n",
        "    i = i + 1"
      ],
      "execution_count": 43,
      "outputs": [
        {
          "output_type": "stream",
          "name": "stdout",
          "text": [
            "1\n",
            "2\n",
            "3\n"
          ]
        }
      ]
    },
    {
      "cell_type": "markdown",
      "metadata": {
        "id": "PFLJDGqDQhv9"
      },
      "source": [
        "Because anything that evaluates to a boolean can be used as a condition, we can use True and have a while loop run forever.\n",
        "\n",
        "If we need to get out early, we can use the command break, which will always get you out of the most recent loop.\n"
      ]
    },
    {
      "cell_type": "code",
      "metadata": {
        "id": "K7PzacIqQhv9",
        "colab": {
          "base_uri": "https://localhost:8080/"
        },
        "outputId": "cf5f46c5-2cee-41f6-a6c0-2652309836ac"
      },
      "source": [
        "i = 0\n",
        "while True:\n",
        "    print(\"Hello! \" + str(i))\n",
        "    if i >= 5:\n",
        "        print(\"Breaking out of while loop\" + \"\\n\")\n",
        "        break\n",
        "    i += 1"
      ],
      "execution_count": 44,
      "outputs": [
        {
          "output_type": "stream",
          "name": "stdout",
          "text": [
            "Hello! 0\n",
            "Hello! 1\n",
            "Hello! 2\n",
            "Hello! 3\n",
            "Hello! 4\n",
            "Hello! 5\n",
            "Breaking out of while loop\n",
            "\n"
          ]
        }
      ]
    },
    {
      "cell_type": "code",
      "metadata": {
        "colab": {
          "base_uri": "https://localhost:8080/"
        },
        "id": "TKvtKLy1MnoF",
        "outputId": "7eb89ca8-ca1c-4ebe-b74b-50004b823f2b"
      },
      "source": [
        "# break command also works with for loops\n",
        "a_list = [\"snake\", \"elephant\", \"mouse\", \"dog\", \"cat\", \"fish\", \"dog\"]\n",
        "\n",
        "for animal in a_list:\n",
        "    print(\"Current animal: \" + str(animal))\n",
        "    if animal == \"dog\":\n",
        "        print(\"Breaking out of while loop.\")\n",
        "        break\n",
        "    else:\n",
        "        print(\"Not a dog.\")"
      ],
      "execution_count": 45,
      "outputs": [
        {
          "output_type": "stream",
          "name": "stdout",
          "text": [
            "Current animal: snake\n",
            "Not a dog.\n",
            "Current animal: elephant\n",
            "Not a dog.\n",
            "Current animal: mouse\n",
            "Not a dog.\n",
            "Current animal: dog\n",
            "Breaking out of while loop.\n"
          ]
        }
      ]
    },
    {
      "cell_type": "markdown",
      "metadata": {
        "id": "6eNLEo1NQhv9"
      },
      "source": [
        "### Functions:\n",
        "\n",
        "Now that we have learned the basics, we are ready for functions, We've already been using them. When we want to use a function we use the f_name() format. So print(), range(), len(), type() are all functions python already gives to us!\n",
        "\n",
        "Functions are sections of code that are CALLABLE,\n",
        "\n",
        "that means throughout our code we can \"summon\" that code we created once to run\n",
        "\n",
        "A function WILL NOT run unless called.\n",
        "\n",
        "A Parameter is a variable we can pass into a function in order to change the function's behavior"
      ]
    },
    {
      "cell_type": "code",
      "metadata": {
        "id": "epPwbXEaQhv-"
      },
      "source": [
        "# We use def to define a function, then all parameters are inside the parenthesis\n",
        "# This function multiplies 2 numbers together and returns the result\n",
        "\n",
        "def my_func(x, y):     \n",
        "    z = x * y\n",
        "    if z > 0:\n",
        "        print(z)\n",
        "    return z # return statements are optional.\n",
        "\n",
        "# Functions with a return statement can pass its operation result into another variable"
      ],
      "execution_count": 46,
      "outputs": []
    },
    {
      "cell_type": "code",
      "metadata": {
        "id": "W7OBhYx9Qhv-",
        "colab": {
          "base_uri": "https://localhost:8080/"
        },
        "outputId": "3a6764cd-332e-486e-e6c6-653f36f51fa2"
      },
      "source": [
        "# Now we will test our function\n",
        "my_func(2, 3)\n",
        "return_val = my_func(-2, 4)\n",
        "print(return_val)\n",
        "# Notice how these variables now contain what we specified by the return statement"
      ],
      "execution_count": 47,
      "outputs": [
        {
          "output_type": "stream",
          "name": "stdout",
          "text": [
            "6\n",
            "-8\n"
          ]
        }
      ]
    },
    {
      "cell_type": "markdown",
      "metadata": {
        "id": "RCordUCbQhv-"
      },
      "source": [
        "Today we have learned everything from the basic Python types, all the way up to crafting simple functions. This is as far as this lesson will go. If anyone has any questions, I would be happy to clarify now!"
      ]
    }
  ]
}
