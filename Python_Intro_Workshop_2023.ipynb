{
 "cells": [
  {
   "cell_type": "markdown",
   "metadata": {
    "id": "view-in-github",
    "colab_type": "text"
   },
   "source": [
    "<a href=\"https://colab.research.google.com/github/cynthialmy/Python-Intro-Workshop-2021/blob/master/Python_Intro_Workshop_2023.ipynb\" target=\"_parent\"><img src=\"https://colab.research.google.com/assets/colab-badge.svg\" alt=\"Open In Colab\"/></a>"
   ]
  },
  {
   "cell_type": "markdown",
   "metadata": {
    "id": "-nKUfS2pQhvG"
   },
   "source": [
    "# Python 3 Introductory Workshop"
   ]
  },
  {
   "cell_type": "markdown",
   "metadata": {
    "id": "e_5aDfbIQhvM"
   },
   "source": [
    "### Topics\n",
    "    - Why Python?\n",
    "    - Variables\n",
    "    - Operators\n",
    "    - Collections\n",
    "    - Conditionals\n",
    "    - Loops"
   ]
  },
  {
   "cell_type": "markdown",
   "metadata": {
    "id": "crEu5G8XQhvO"
   },
   "source": [
    "### Why Python?\n",
    "Python is known for being one of the most versitile and easy to use languages\n",
    "    \n",
    "    - Simple syntax makes it easy to learn\n",
    "    - Easy and intuitive to read, even with minimal programming knowledge\n",
    "        - Ex. string.lower(); string.upper();\n",
    "    - Great for prototyping and quickly writing working code\n",
    "    - Portable across systems; As long as Python is installed it will run on any operting system\n",
    "    \n",
    "Popular uses for Python include\n",
    "\n",
    "    - Mathematics and Big Data\n",
    "        Packages used for reading, manipulating, and analyzing data quickly(Numpy, Pandas)\n",
    "    - Data Visualization\n",
    "        Packages used for visualizing data on plots, graphs (Matplotlib, Plotly)\n",
    "    - Webb Development\n",
    "        Python offers many framework, which have been used to power some of the world’s most popular sites such as Instagram, Spotify, Dropbox, Reddit, Netflix and Yelp.\n",
    "    - Simple Scripting\n",
    "        Writing a functional program that performs an individual task (rasberry pi)"
   ]
  },
  {
   "cell_type": "code",
   "execution_count": null,
   "metadata": {
    "id": "Y-nYIwr1q-KC"
   },
   "outputs": [],
   "source": [
    "# Anything that comes after a # on the same line is a comment\n",
    "# Python ignores it, but it lets us humans take notes on what we did"
   ]
  },
  {
   "cell_type": "markdown",
   "metadata": {
    "id": "qO9iINdYQhvQ"
   },
   "source": [
    "### Variables"
   ]
  },
  {
   "cell_type": "markdown",
   "metadata": {
    "id": "PyFrcZ8PQhvR"
   },
   "source": [
    "Variables are the building blocks in Python. We use variables to store information that we want to use later. \n",
    "\n",
    "To create a variable and assign it to a value/piece of information, we use =. \n",
    "\n",
    "Here, we're going to look at 4 primitive (basic) variable types:\n",
    "    \n",
    "    -integers\n",
    "    -floats\n",
    "    -strings\n",
    "    -booleans"
   ]
  },
  {
   "cell_type": "markdown",
   "metadata": {
    "id": "h4kwW9yVQhvS"
   },
   "source": [
    "##### Integers\n",
    "\n",
    "Integers: positive or negative numbers WITHOUT decimal places - the same as in math."
   ]
  },
  {
   "cell_type": "code",
   "execution_count": null,
   "metadata": {
    "colab": {
     "base_uri": "https://localhost:8080/"
    },
    "id": "w9iQToKJQhvU",
    "outputId": "580fe190-becc-4064-a70d-ad7ddbac16d4"
   },
   "outputs": [
    {
     "output_type": "stream",
     "name": "stdout",
     "text": [
      "5\n",
      "<class 'int'>\n"
     ]
    }
   ],
   "source": [
    "myInt = 5\n",
    "print(myInt)\n",
    "print(type(myInt))"
   ]
  },
  {
   "cell_type": "markdown",
   "metadata": {
    "id": "mqjLSsMdd7X6"
   },
   "source": [
    "If we want to see the value stored in a variable, we can use the built-in print( ) function.\n",
    "\n",
    "The print() function will show us whatever is inside the ( ) to our console, for Colab, the console will appear below our code blocks"
   ]
  },
  {
   "cell_type": "markdown",
   "metadata": {
    "id": "HsdHDijQQhvY"
   },
   "source": [
    "#### Floats\n",
    "Floating point numbers: numbers WITH decimal places. "
   ]
  },
  {
   "cell_type": "code",
   "execution_count": null,
   "metadata": {
    "colab": {
     "base_uri": "https://localhost:8080/"
    },
    "id": "drSDl5nZQhvb",
    "outputId": "c39df3ec-b973-408c-cfdb-0aac7a3af547"
   },
   "outputs": [
    {
     "output_type": "stream",
     "name": "stdout",
     "text": [
      "5.5\n",
      "<class 'float'>\n"
     ]
    }
   ],
   "source": [
    "floatingPointNumber = 5.5\n",
    "print(floatingPointNumber)\n",
    "print(type(floatingPointNumber))"
   ]
  },
  {
   "cell_type": "markdown",
   "metadata": {
    "id": "X0PyOXFgQhvd"
   },
   "source": [
    "##### Strings\n",
    "Sequence of characters surrounded by \"\" or ''(double quotes or single quotes)"
   ]
  },
  {
   "cell_type": "code",
   "execution_count": null,
   "metadata": {
    "colab": {
     "base_uri": "https://localhost:8080/"
    },
    "id": "Jwq4SmevQhve",
    "outputId": "72b8e25c-8389-4878-f0d6-dacb266359f1"
   },
   "outputs": [
    {
     "output_type": "stream",
     "name": "stdout",
     "text": [
      "hello\n",
      "3\n",
      "Hi 'Pam'\n"
     ]
    }
   ],
   "source": [
    "#String examples:\n",
    "string1 = \"hello\"\n",
    "string2 = '3'\n",
    "string3 = \"Hi 'Pam'\"\n",
    "print(string1)\n",
    "print(string2)\n",
    "print(string3)\n",
    "# Double quoted strings (\"\") can have single quotes ('') in them\n",
    "# Single quoted strings can have double quotes in them\n",
    "\n",
    "# According to Python Coding Standards:\n",
    "# Use single-quotes for string literals, e.g. 'my-identifier', but use double-quotes for strings \n",
    "# that are likely to contain single-quote characters as part of the string itself \n",
    "# (such as error messages, or any strings containing natural language), e.g. \"You've got an error!\".\n",
    "\n",
    "#  Reason:\n",
    "#  Single-quotes are easier to read and to type, but if a string contains single-quote characters then \n",
    "# double-quotes are better than escaping the single-quote characters or wrapping the string in double single-quotes.\n",
    "\n",
    "# We also use triple single-quotes for docstrings, but more on that later."
   ]
  },
  {
   "cell_type": "markdown",
   "metadata": {
    "id": "Aa11RTN0Qhvf"
   },
   "source": [
    "We can access strings through indexing. Indexing a string will allow us to access specific letters in the string. In python, we use [] to access specific letters with 0 being the first character and -1 being the last."
   ]
  },
  {
   "cell_type": "code",
   "execution_count": null,
   "metadata": {
    "colab": {
     "base_uri": "https://localhost:8080/"
    },
    "id": "8e5SU4eAQhvg",
    "outputId": "2def92b5-a033-4528-cefc-c5bc262d2a3b"
   },
   "outputs": [
    {
     "name": "stdout",
     "output_type": "stream",
     "text": [
      "h\n",
      "o\n"
     ]
    }
   ],
   "source": [
    "a_string = \"hello\"\n",
    "# print h:\n",
    "print(a_string[0])\n",
    "# print o:\n",
    "print(a_string[4])"
   ]
  },
  {
   "cell_type": "markdown",
   "metadata": {
    "id": "knzZi2UlQhvh"
   },
   "source": [
    "##### Booleans\n",
    "Boolean variables either have the value True or False. "
   ]
  },
  {
   "cell_type": "code",
   "execution_count": null,
   "metadata": {
    "id": "t5VEm7daQhvi"
   },
   "outputs": [],
   "source": [
    "#used in IF-conditionals such as checking if a variable is a specific datatype, if an integer is a specific number, etc\n",
    "\n",
    "a_bool = True # any non-zero number as a boolean will be cast to True\n",
    "b_bool = False # 0 will be cast to False\n"
   ]
  },
  {
   "cell_type": "markdown",
   "metadata": {
    "id": "VkhJjsgSQhvj"
   },
   "source": [
    "If we want to make a variable but have nothing in it, not even the value 0, we use None. This gets helpful in some more advanced programs, but for the basics, just know it exists. \n",
    "It is a useful thing to check when passing variables to different functions to ensure that input is correct. You always want to check that your input is not None and that it is not outside the bounds of what you need it to be for that function to ensure that someone can't break your code. \n",
    "Ex. Temperature"
   ]
  },
  {
   "cell_type": "code",
   "execution_count": null,
   "metadata": {
    "colab": {
     "base_uri": "https://localhost:8080/"
    },
    "id": "MXQW9VnOQhvj",
    "outputId": "4e0a298b-7667-49fa-8dcd-587f8ddc4664"
   },
   "outputs": [
    {
     "name": "stdout",
     "output_type": "stream",
     "text": [
      "None\n",
      "<class 'NoneType'>\n"
     ]
    }
   ],
   "source": [
    "myVar = None\n",
    "print(myVar)\n",
    "print(type(myVar))"
   ]
  },
  {
   "cell_type": "markdown",
   "metadata": {
    "id": "EDtnPTv0Qhvk"
   },
   "source": [
    "If we want to know the type of a variable, we can use the type( ) function"
   ]
  },
  {
   "cell_type": "code",
   "execution_count": null,
   "metadata": {
    "colab": {
     "base_uri": "https://localhost:8080/"
    },
    "id": "6yRYuTpWQhvk",
    "outputId": "3bcc5f31-8bc8-4a50-8561-7b380b119d19"
   },
   "outputs": [
    {
     "name": "stdout",
     "output_type": "stream",
     "text": [
      "<class 'str'>\n"
     ]
    }
   ],
   "source": [
    "a_string = \"hello\"\n",
    "print(type(a_string))"
   ]
  },
  {
   "cell_type": "markdown",
   "metadata": {
    "id": "Cd4rulE5Qhvl"
   },
   "source": [
    "You can name a variable almost anything you want with just a few rules\n",
    "\n",
    "    - can't start a variable name with numbers\n",
    "    - can't have a space in a variable name\n",
    "    \n",
    "You should generally follow a few guidelines as well\n",
    "\n",
    "    - start a variable name with a lowercase letter\n",
    "    - keep them descriptive"
   ]
  },
  {
   "cell_type": "markdown",
   "metadata": {
    "id": "4A6Qqs69Qhvm"
   },
   "source": [
    "### Operators"
   ]
  },
  {
   "cell_type": "markdown",
   "metadata": {
    "id": "DuHwgupYQhvm"
   },
   "source": [
    "Operators let us do things with variables and values, such as add, subtract, or compare them. \n",
    "\n",
    "We have already seen one operator: the assigment operator (=) lets us assign values to variables. \n",
    "\n",
    "The basic operators to know are\n",
    "    \n",
    "    assignment: =\n",
    "    addition/concatenation: +\n",
    "    subtraction: -\n",
    "    multiplication: *\n",
    "    floating point division: /\n",
    "    integer division: //\n",
    "    modulo: %\n",
    "    exponentiation: **\n",
    "    comparisons: <, <=, >, >=, !=, ==\n",
    "    Boolean Operations: or, and, not"
   ]
  },
  {
   "cell_type": "markdown",
   "metadata": {
    "id": "OUNYaR5JQhvn"
   },
   "source": [
    "When we use + on two numbers, it works as addition just like in math. We can add different types of numbers together, such as floats and integers. "
   ]
  },
  {
   "cell_type": "code",
   "execution_count": null,
   "metadata": {
    "colab": {
     "base_uri": "https://localhost:8080/"
    },
    "id": "8LB0Y1FRQhvo",
    "outputId": "2cbb7137-5d9c-48fa-e632-26fd4a6f35d0"
   },
   "outputs": [
    {
     "name": "stdout",
     "output_type": "stream",
     "text": [
      "26.4\n",
      "<class 'float'>\n"
     ]
    }
   ],
   "source": [
    "beam = 9\n",
    "balance = 9.9\n",
    "bars = 7.5\n",
    "\n",
    "#find total score:\n",
    "print(beam+balance+bars)\n",
    "print(type(beam+balance+bars))"
   ]
  },
  {
   "cell_type": "markdown",
   "metadata": {
    "id": "VsbVITCRQhvp"
   },
   "source": [
    "When we use + on two strings, it concatenates them, we can use them with variables, strings, or both. + won't add spaces between strings though, so we have to do it manually."
   ]
  },
  {
   "cell_type": "code",
   "execution_count": null,
   "metadata": {
    "colab": {
     "base_uri": "https://localhost:8080/"
    },
    "id": "T2NGFwIVQhvp",
    "outputId": "65a1652b-1712-4403-ddc6-d6c3447c0f48"
   },
   "outputs": [
    {
     "name": "stdout",
     "output_type": "stream",
     "text": [
      "hello17\n",
      "hello 17\n"
     ]
    }
   ],
   "source": [
    "a_string = \"hello\"\n",
    "b_string = \"17\"\n",
    "\n",
    "print(a_string + b_string)\n",
    "print(a_string + \" \" + b_string)"
   ]
  },
  {
   "cell_type": "markdown",
   "metadata": {
    "id": "M3rF0ckIQhvq"
   },
   "source": [
    "We can't mix and match strings and numbers though, if we want to, we have to \"cast\" them with Pythons built-in casting system."
   ]
  },
  {
   "cell_type": "code",
   "execution_count": null,
   "metadata": {
    "colab": {
     "base_uri": "https://localhost:8080/"
    },
    "id": "I6wjbG5HQhvr",
    "outputId": "a1d0d13d-ccf8-4b03-9700-ef7c522eb9a9",
    "scrolled": true
   },
   "outputs": [
    {
     "name": "stdout",
     "output_type": "stream",
     "text": [
      "7\n"
     ]
    }
   ],
   "source": [
    "#checking for types is useful for debugging\n",
    "print(4 + int('3')) #causes an error\n"
   ]
  },
  {
   "cell_type": "markdown",
   "metadata": {
    "id": "SFCuOCROQhvt"
   },
   "source": [
    "Subtraction (-) works the same way as addition, but only works with numerical vaules\n"
   ]
  },
  {
   "cell_type": "code",
   "execution_count": null,
   "metadata": {
    "colab": {
     "base_uri": "https://localhost:8080/"
    },
    "id": "Xg7U_8uxQhvt",
    "outputId": "6aee4584-1876-46ef-e135-9292b43ededa"
   },
   "outputs": [
    {
     "name": "stdout",
     "output_type": "stream",
     "text": [
      "4.8\n"
     ]
    }
   ],
   "source": [
    "a_float = 6.8 \n",
    "a_int = 2\n",
    "\n",
    "print(a_float - a_int) # a_int = 6"
   ]
  },
  {
   "cell_type": "markdown",
   "metadata": {
    "id": "caALCCbhnqFb"
   },
   "source": [
    "Multiplication operator (*)"
   ]
  },
  {
   "cell_type": "code",
   "execution_count": null,
   "metadata": {
    "colab": {
     "base_uri": "https://localhost:8080/"
    },
    "id": "nome67GZQhvu",
    "outputId": "888be2a1-023a-4000-b4b2-c1d83c25bab8"
   },
   "outputs": [
    {
     "name": "stdout",
     "output_type": "stream",
     "text": [
      "12\n",
      "hello hello hello \n",
      "16\n"
     ]
    }
   ],
   "source": [
    "# multiplication: \n",
    "print(3*4)\n",
    "\n",
    "# with strings:\n",
    "# what would you do to get the string \"hello hello hello\"\n",
    "print(\"hello \"*3)\n",
    "\n",
    "#exponents: \n",
    "print(2**4)"
   ]
  },
  {
   "cell_type": "markdown",
   "metadata": {
    "id": "SrgLf9q7nvtN"
   },
   "source": [
    "Division \n",
    "- floating point division: /\n",
    "- integer division: //\n",
    "\n",
    "Modulo (%)"
   ]
  },
  {
   "cell_type": "code",
   "execution_count": null,
   "metadata": {
    "colab": {
     "base_uri": "https://localhost:8080/"
    },
    "id": "iy_aweTpQhvu",
    "outputId": "59dbad94-cc05-4397-9725-a7417781c7ff"
   },
   "outputs": [
    {
     "name": "stdout",
     "output_type": "stream",
     "text": [
      "1.6666666666666667\n",
      "1\n",
      "2\n"
     ]
    }
   ],
   "source": [
    "# floating point division: \n",
    "print(5/3)\n",
    "\n",
    "# floor division (this will drop the decimal part and floor it): \n",
    "print(5//3)\n",
    "\n",
    "# modulo (this gives us the remainder):\n",
    "print(5 % 3)"
   ]
  },
  {
   "cell_type": "markdown",
   "metadata": {
    "id": "AknyNibxpL0g"
   },
   "source": [
    "Comparison operators:\n",
    "\n",
    "\n",
    "- less than \n",
    "- greater than \n",
    "- less than or equal to \n",
    "- greater than or equal to\n",
    "- not equals \n",
    "- equality \n",
    "\n",
    "\n",
    "\n",
    "\n",
    "\n"
   ]
  },
  {
   "cell_type": "code",
   "execution_count": null,
   "metadata": {
    "colab": {
     "base_uri": "https://localhost:8080/"
    },
    "id": "l47wmTXnQhvv",
    "outputId": "755407cf-81ff-4a96-97d2-4dd1d8e12253"
   },
   "outputs": [
    {
     "name": "stdout",
     "output_type": "stream",
     "text": [
      "True\n"
     ]
    }
   ],
   "source": [
    "# Comparison operators return boolean values (True or False)\n",
    "# its worth taking extra care: == is equals. = is assignment.\n",
    "\n",
    "# testing comparison operators:\n",
    "beam = 9\n",
    "balance = 9.9\n",
    "\n",
    "print(beam < balance)\n",
    "\n"
   ]
  },
  {
   "cell_type": "code",
   "execution_count": null,
   "metadata": {
    "colab": {
     "base_uri": "https://localhost:8080/"
    },
    "id": "8r0SGZGYQhvv",
    "outputId": "00672f3f-c755-4865-d4ef-4e23897e91e5"
   },
   "outputs": [
    {
     "name": "stdout",
     "output_type": "stream",
     "text": [
      "False\n"
     ]
    }
   ],
   "source": [
    "# Boolean operators: or, and, not \n",
    "# Use these operators to combine boolean values (true and false)\n",
    "\n",
    "# Ex. Weather!\n",
    "\n",
    "cold = True \n",
    "windy = False\n",
    "\n",
    "print(cold and windy)"
   ]
  },
  {
   "cell_type": "code",
   "execution_count": null,
   "metadata": {
    "colab": {
     "base_uri": "https://localhost:8080/"
    },
    "id": "YQm78MC9pqJR",
    "outputId": "1de10f01-7c11-4095-cb16-84128de252e7"
   },
   "outputs": [
    {
     "name": "stdout",
     "output_type": "stream",
     "text": [
      "True\n",
      "True\n",
      "False\n",
      "False\n"
     ]
    }
   ],
   "source": [
    "# OR returns True if either one is True\n",
    "print(True or True)\n",
    "print(True or False)\n",
    "print(False or False)\n",
    "\n",
    "# AND returns True only if both are True\n",
    "# Something cannot be be True AND False at the same time\n",
    "\n",
    "# NOT returns the opposite value (flip a boolean value)\n",
    "print(not True)"
   ]
  },
  {
   "cell_type": "markdown",
   "metadata": {
    "id": "IcCs380EQhvw"
   },
   "source": [
    "### Collections"
   ]
  },
  {
   "cell_type": "markdown",
   "metadata": {
    "id": "tas7527sQhvw"
   },
   "source": [
    "A lot of the time, we will be working with a lot of numbers, and we need some way to arrange those numbers that make sense. Let's say we want a list of all the buildings in Atlanta. Making 100 or 200 variables for each building would be tedious! \n",
    "\n",
    "Python has a good range of collections to help us with this, the four most useful being:\n",
    "\n",
    "    - Lists\n",
    "    - Sets\n",
    "    - Dictionaries\n",
    "    - Tuples"
   ]
  },
  {
   "cell_type": "markdown",
   "metadata": {
    "id": "B5MlBoMaQhvx"
   },
   "source": [
    "###### Lists\n",
    "\n",
    "Now we'll talk about lists.\n",
    "Lists are great when we have some ORDERDED DATA and WE HAVE DUPLICATES."
   ]
  },
  {
   "cell_type": "code",
   "execution_count": null,
   "metadata": {
    "colab": {
     "base_uri": "https://localhost:8080/"
    },
    "id": "xgDVKNk8Qhvy",
    "outputId": "a61d4d72-e6e6-4d78-f9df-8ba7bcb3d179"
   },
   "outputs": [
    {
     "name": "stdout",
     "output_type": "stream",
     "text": [
      "['Accenture', 'Coca-cola', 'NCR', 'Pencil Building', 'UHouse']\n",
      "['Accenture', 'Coke', 'NCR', 'Pencil Building', 'UHouse']\n"
     ]
    }
   ],
   "source": [
    "# There are two ways to make an empty list\n",
    "atl_buildings = list()\n",
    "atl_buildings = []\n",
    "\n",
    "# We can make one with information already in it if we want. We can also have a mix of strings and numbers in a list. \n",
    "atl_buildings = [\"Accenture\", \"Coca-cola\", \"NCR\", \"Pencil Building\", \"UHouse\"]\n",
    "print(atl_buildings)\n",
    "\n",
    "# We can access a list just with []. The index 0 is the first element in the list. \n",
    "atl_buildings[1] = \"Coke\"\n",
    "print(atl_buildings)\n",
    "# We can also change an element in the list using indices. \n"
   ]
  },
  {
   "cell_type": "code",
   "execution_count": null,
   "metadata": {
    "colab": {
     "base_uri": "https://localhost:8080/"
    },
    "id": "lsAIZke74Lha",
    "outputId": "2fcd998d-331a-4a68-9925-a0fca3f32aed"
   },
   "outputs": [
    {
     "name": "stdout",
     "output_type": "stream",
     "text": [
      "['Accenture', 'Coca-cola', 'NCR', 'Pencil Building', 'UHouse', 'Coda']\n",
      "['Accenture', 'Coca-cola', 'Coda', 'NCR', 'Pencil Building', 'UHouse', 'Coda']\n"
     ]
    }
   ],
   "source": [
    "atl_buildings = [\"Accenture\", \"Coca-cola\", \"NCR\", \"Pencil Building\", \"UHouse\"]\n",
    "\n",
    "# We can add to the end of a list with List.append(value)\n",
    "atl_buildings.append(\"Coda\")\n",
    "print(atl_buildings)\n",
    "\n",
    "# We can add an element at a certain index in a list using List.insert(index, value). \n",
    "atl_buildings.insert(2, \"Coda\")\n",
    "print(atl_buildings)\n",
    "\n",
    "\n"
   ]
  },
  {
   "cell_type": "code",
   "execution_count": null,
   "metadata": {
    "colab": {
     "base_uri": "https://localhost:8080/"
    },
    "id": "_oLmy29PQhvy",
    "outputId": "ac08b366-265c-412c-88cb-2852b1a1305b"
   },
   "outputs": [
    {
     "name": "stdout",
     "output_type": "stream",
     "text": [
      "['Accenture', 'Coca-cola', 'Coda', 'Pencil Building', 'UHouse', 'Coda']\n",
      "['Accenture', 'Coca-cola', 'Coda', 'UHouse', 'Coda']\n",
      "Pencil Building\n"
     ]
    }
   ],
   "source": [
    "# There are a few ways to remove from a list\n",
    "\n",
    "# We can remove an item using List.remove(value) - only removes the FIRST OCCURRENCE in the list\n",
    "atl_buildings.remove(\"NCR\")\n",
    "print(atl_buildings)\n",
    "\n",
    "# List.pop() will remove and return the value at the LOCATION we want\n",
    "# we can save it to a variable for later! List.pop(index)\n",
    "\n",
    "# if we dont specify an index, the LAST element will be removed\n",
    "popped_element = atl_buildings.pop(3)\n",
    "print(atl_buildings)\n",
    "print(popped_element)\n"
   ]
  },
  {
   "cell_type": "code",
   "execution_count": null,
   "metadata": {
    "colab": {
     "base_uri": "https://localhost:8080/"
    },
    "id": "oYf8Db8k2re7",
    "outputId": "9b9ec760-4478-4eb7-d794-9a3d0b8ecf97"
   },
   "outputs": [
    {
     "name": "stdout",
     "output_type": "stream",
     "text": [
      "True\n",
      "False\n"
     ]
    }
   ],
   "source": [
    "# Time for a new operator, \"in\"\n",
    "# We can check to see if something is in our list (or any other collection!) using the \"in\" operator:\n",
    "print(\"UHouse\" in atl_buildings)\n",
    "print(\"Google\" in atl_buildings)"
   ]
  },
  {
   "cell_type": "markdown",
   "metadata": {
    "id": "M5eCwz5RQhvx"
   },
   "source": [
    "###### Sets\n",
    "\n",
    "Sets are just like sets in math, they are a grouping of information that is NON-ORDERED and DO NOT CONTAIN DUPLICATES. We can store multiple types of data in a set - so a set can include strings, integers, floating point values, etc."
   ]
  },
  {
   "cell_type": "code",
   "execution_count": null,
   "metadata": {
    "colab": {
     "base_uri": "https://localhost:8080/"
    },
    "id": "U6HKIKNIQhvx",
    "outputId": "c87fb57d-f7ea-475c-b9a7-14ef4f8704cb"
   },
   "outputs": [
    {
     "name": "stdout",
     "output_type": "stream",
     "text": [
      "{711, 'NCR', 'Coca-cola'}\n",
      "{'NCR', 'Coca-cola'}\n"
     ]
    }
   ],
   "source": [
    "# There is only one way to make an empty set\n",
    "buildings_set = {}\n",
    "\n",
    "# We can make one with information already in it if we want\n",
    "buildings_set = {\"Coca-cola\", 711}\n",
    "\n",
    "\n",
    "# to add to a set we use the Set.add() function\n",
    "buildings_set.add(\"NCR\")\n",
    "print(buildings_set)\n",
    "\n",
    "# we can remove from the set with Set.remove()\n",
    "buildings_set.remove(711)\n",
    "print(buildings_set)\n",
    "\n"
   ]
  },
  {
   "cell_type": "markdown",
   "metadata": {
    "id": "BTm5VelBQhv1"
   },
   "source": [
    "###### Dictionaries\n",
    "\n",
    "Dictionaries have information stored in Key:Value pairs, it lets us associate data with other data rather than just an index (or location)"
   ]
  },
  {
   "cell_type": "code",
   "execution_count": null,
   "metadata": {
    "colab": {
     "base_uri": "https://localhost:8080/"
    },
    "id": "fifUmarFQhv1",
    "outputId": "c54002a9-8e4c-43c5-a693-e7b8947c594f"
   },
   "outputs": [
    {
     "name": "stdout",
     "output_type": "stream",
     "text": [
      "{'StudentNo': 5555, 'major': 'Computer Science'}\n",
      "{'StudentNo': 5555, 'major': 'Computer Science', 'Student Name': 'John'}\n",
      "{'StudentNo': 5555, 'major': 'Biology', 'Student Name': 'John'}\n"
     ]
    }
   ],
   "source": [
    "# There are two ways to make an empty dictionary\n",
    "\n",
    "# If we want to make one with information already in it\n",
    "a_dict = {\"StudentNo\":5555, \"major\":\"Computer Science\"}\n",
    "print(a_dict)\n",
    "\n",
    "# We can add to the dictionary by defining a NEW KEY\n",
    "a_dict[\"Student Name\"] = \"John\"\n",
    "print(a_dict)\n",
    "\n",
    "# If the key is already in the dictionary, we OVERWRITE the old data, its gone forever\n",
    "a_dict[\"major\"] = \"Biology\"\n",
    "print(a_dict)\n"
   ]
  },
  {
   "cell_type": "code",
   "execution_count": null,
   "metadata": {
    "colab": {
     "base_uri": "https://localhost:8080/"
    },
    "id": "6OiZU3vcQhv2",
    "outputId": "2d61a618-44e4-4add-8c9c-d0d3ae35bf68"
   },
   "outputs": [
    {
     "name": "stdout",
     "output_type": "stream",
     "text": [
      "dict_keys(['StudentNo', 'major', 'Student Name'])\n",
      "dict_values([5555, 'Biology', 'John'])\n",
      "{'StudentNo': 5555, 'Student Name': 'John'}\n",
      "Biology\n"
     ]
    }
   ],
   "source": [
    "# If we don't know a key, we can get a list of keys back! \n",
    "print(a_dict.keys())\n",
    "\n",
    "# We can also get a list of values back:\n",
    "print(a_dict.values())\n",
    "\n",
    "# If we want to remove something from the dictionary we use Dict.pop(key)\n",
    "# we need to tell it what key we want removed. It gives us (or \"returns\") the value back to save\n",
    "popped = a_dict.pop(\"major\")\n",
    "print(a_dict)\n",
    "print(popped)\n"
   ]
  },
  {
   "cell_type": "markdown",
   "metadata": {
    "id": "VmJMqG19Qhvz"
   },
   "source": [
    "###### Tuples\n",
    "\n",
    "Next we'll touch on Tuples.\n",
    "We use tuples when we have a small amount of ordered data we want to save."
   ]
  },
  {
   "cell_type": "code",
   "execution_count": null,
   "metadata": {
    "colab": {
     "base_uri": "https://localhost:8080/"
    },
    "id": "qngWvtWqQhvz",
    "outputId": "b050d3c6-aafc-4676-a29d-f73daeb06e32"
   },
   "outputs": [
    {
     "name": "stdout",
     "output_type": "stream",
     "text": [
      "2\n"
     ]
    }
   ],
   "source": [
    "# Theres only one way to make tuple\n",
    "a_tup = (1, 2, 3, \"dog\")\n",
    "\n",
    "# just like with a string and a list, we can access a tuple using []\n",
    "\n",
    "print(a_tup[1]) # remember we count from 0 in Python programming!"
   ]
  },
  {
   "cell_type": "markdown",
   "metadata": {
    "id": "2DGSevqEQhv0"
   },
   "source": [
    "Once we make a tuple, we can't change it. This is the reason we would pick a tuple over a List.\n",
    "If we want to change it, we have to make a new tuple\n",
    "we can however, assign that tuple to the same variable as the old one"
   ]
  },
  {
   "cell_type": "code",
   "execution_count": null,
   "metadata": {
    "colab": {
     "base_uri": "https://localhost:8080/"
    },
    "id": "FIpXk6tOQhv0",
    "outputId": "9f50a361-4784-495b-e7a5-a2b2def00c30"
   },
   "outputs": [
    {
     "name": "stdout",
     "output_type": "stream",
     "text": [
      "(1, 2, 3, 'dog')\n",
      "(1, 'cat', 3, 'dog')\n"
     ]
    }
   ],
   "source": [
    "a_tup = (1,2,3,\"dog\") # so things don't break if you re-run\n",
    "\n",
    "# a_tup[1] = 1 # Python yells at us! We can't use indices to change a value in a tuple. \n",
    "\n",
    "# if I want to change 2 to \"cat\":\n",
    "\n",
    "b_tup = (a_tup[0], \"cat\", a_tup[2], a_tup[3])\n",
    "\n",
    "print(a_tup)\n",
    "print(b_tup)"
   ]
  },
  {
   "cell_type": "markdown",
   "metadata": {
    "id": "3HkP0dw6Qhv2"
   },
   "source": [
    "Tuples, Lists, Sets, and Dictionaries can hold any and all kinds of data we want. So we can put a List inside a List, a Dictionary inside a Dictionary, or a List inside a Set. Though its best to avoid doing this unless you need to."
   ]
  },
  {
   "cell_type": "code",
   "execution_count": null,
   "metadata": {
    "colab": {
     "base_uri": "https://localhost:8080/"
    },
    "id": "-41ppVvtAr0v",
    "outputId": "5e6de9ee-465e-4337-95b6-5f9c223c1a55"
   },
   "outputs": [
    {
     "name": "stdout",
     "output_type": "stream",
     "text": [
      "[{'StudentNo': 5555, 'major': 'Computer Science', 'name': 'John'}, {'StudentNo': 3333, 'major': 'Computer Engineering'}]\n"
     ]
    }
   ],
   "source": [
    "a_dict = {\"StudentNo\":5555, \"major\":\"Computer Science\", \"name\": \"John\"}\n",
    "b_dict = {\"StudentNo\":3333, \"major\":\"Computer Engineering\"}\n",
    "list_student = [a_dict, b_dict]\n",
    "print(list_student)"
   ]
  },
  {
   "cell_type": "markdown",
   "metadata": {
    "id": "IdEe-cu8Qhv3"
   },
   "source": [
    "### Conditionals"
   ]
  },
  {
   "cell_type": "markdown",
   "metadata": {
    "id": "6ATPVhyNQhv3"
   },
   "source": [
    "Conditional statements are used to execute a certain command only if certain requirements are met.\n",
    "\n",
    "The basic conditionals are if, elif, and else.\n",
    "\n",
    "Conditional statements are interpreted from start to end. Python will first interpret the if statement, then move to elif in the order they were written, then finally the else (note: elif and else ARE NOT required)\n",
    "\n",
    "Ex. Income taxes/tax brackets"
   ]
  },
  {
   "cell_type": "markdown",
   "metadata": {
    "id": "FqwYZeiGQhv5"
   },
   "source": [
    "We use a colon (:) to end the line that contains the conditional\n",
    "The : tells python that the next line should be a nested block of code; this is the block of code that runs if the conditional is true. \n",
    "\n",
    "The elif conditional is only evaluated if the original if statement fails.\n",
    "the else conditional is only evaluated if both the original if statement and all elifs between fail.\n",
    "\n",
    "Because the blocks of code associated with the elif conditional and the else conditional are not executed, we skip them as well.\n",
    "\n"
   ]
  },
  {
   "cell_type": "code",
   "execution_count": null,
   "metadata": {
    "colab": {
     "base_uri": "https://localhost:8080/"
    },
    "id": "u_J4id4DQhv4",
    "outputId": "348bcf78-e78a-4731-9ded-7a2ee917affa"
   },
   "outputs": [
    {
     "name": "stdout",
     "output_type": "stream",
     "text": [
      "bark\n"
     ]
    }
   ],
   "source": [
    "a_tup = (\"dog\", \"cat\", \"horse\")\n",
    "\n",
    "if (\"dog\" in a_tup):\n",
    "    print(\"bark\")\n",
    "elif \"cat\" in a_tup:\n",
    "    print(\"meow\")\n",
    "else:\n",
    "    print(\"I am not a dog or cat\")"
   ]
  },
  {
   "cell_type": "code",
   "execution_count": null,
   "metadata": {
    "colab": {
     "base_uri": "https://localhost:8080/"
    },
    "id": "SU_0AoNaQhv5",
    "outputId": "31d399d4-c02b-43dd-98c5-95a8476aef0f"
   },
   "outputs": [
    {
     "name": "stdout",
     "output_type": "stream",
     "text": [
      "bark\n",
      "squeak\n"
     ]
    }
   ],
   "source": [
    "if \"dog\" in a_tup:\n",
    "    # since there is an if directly after this, this if statement stands alone\n",
    "    print(\"bark\")\n",
    "if \"cat\" in a_tup:\n",
    "    print(\"squeak\")\n",
    "else:\n",
    "    # This else statement belongs to the If Directly above it. The first if is independent\n",
    "    print(\"I am not a dog or a mouse\")\n",
    "# therefore both the first if, and the else statement are executed."
   ]
  },
  {
   "cell_type": "markdown",
   "metadata": {
    "id": "mUF6ir_NQhv5"
   },
   "source": [
    "### For loops:\n",
    "Probably the most powerful tool in a programming language is the ability to iterate over every item with one statement this is done using for loops.\n",
    "\n",
    "Ex. Income statements: if we had the incomes of 1000 people in a list and we wanted to determine their income tax, it would be tedious to do this manually for every single person. Instead, we can loop through every element in the list using a for loop. \n",
    "\n",
    "Python has a very simple method for writing for loops"
   ]
  },
  {
   "cell_type": "code",
   "execution_count": null,
   "metadata": {
    "colab": {
     "base_uri": "https://localhost:8080/"
    },
    "id": "GL_k3a77Qhv6",
    "outputId": "d618a50c-7891-4580-e6d4-db32f252c641"
   },
   "outputs": [
    {
     "name": "stdout",
     "output_type": "stream",
     "text": [
      "1\n",
      "2\n",
      "3\n",
      "dog\n",
      "cat\n",
      "fish\n",
      "dog\n"
     ]
    }
   ],
   "source": [
    "# x is representing an item in the list\n",
    "a_list = [1,2,3,\"dog\",\"cat\",\"fish\",\"dog\"]\n",
    "\n",
    "# write a for loop that iterates through the list: \n",
    "for item in a_list:\n",
    "     print(item)"
   ]
  },
  {
   "cell_type": "code",
   "execution_count": null,
   "metadata": {
    "colab": {
     "base_uri": "https://localhost:8080/"
    },
    "id": "95k1FPoKQhv6",
    "outputId": "785c4a91-2587-4fbe-9b64-2ab2c73313dc"
   },
   "outputs": [
    {
     "name": "stdout",
     "output_type": "stream",
     "text": [
      "7\n"
     ]
    }
   ],
   "source": [
    "# Two functions useful for going through a list are len() and range(). \n",
    "\n",
    "# len() will return an integer that is the length of a collection\n",
    "print(len(a_list))"
   ]
  },
  {
   "cell_type": "code",
   "execution_count": null,
   "metadata": {
    "colab": {
     "base_uri": "https://localhost:8080/"
    },
    "id": "Q0kci46oA90e",
    "outputId": "a3dd73ab-80f9-47c8-a919-cf7c2c1ac4f0"
   },
   "outputs": [
    {
     "name": "stdout",
     "output_type": "stream",
     "text": [
      "0\n",
      "1\n",
      "2\n",
      "3\n",
      "4\n",
      "5\n",
      "6\n",
      "7\n",
      "8\n",
      "9\n"
     ]
    }
   ],
   "source": [
    "# range() will generate a list of numbers we can use, usually in a loop we can call range with 1, 2, or 3 arguments\n",
    "\n",
    "# if we pass one input to range(x), it generates a list from 0 (inclusive) to x (exclusive)\n",
    "for i in range(10):\n",
    "  print(i)"
   ]
  },
  {
   "cell_type": "code",
   "execution_count": null,
   "metadata": {
    "colab": {
     "base_uri": "https://localhost:8080/"
    },
    "id": "QDpcToZUBAQF",
    "outputId": "80803a52-b963-4d74-87f6-a531f5837223"
   },
   "outputs": [
    {
     "name": "stdout",
     "output_type": "stream",
     "text": [
      "5\n",
      "6\n",
      "7\n",
      "8\n",
      "9\n"
     ]
    }
   ],
   "source": [
    "# if we pass two inputs to range(x,y) it generates a list from x (inclusive) to y (exclusive)\n",
    "for i in range(5,10):\n",
    "  print(i)"
   ]
  },
  {
   "cell_type": "code",
   "execution_count": null,
   "metadata": {
    "colab": {
     "base_uri": "https://localhost:8080/"
    },
    "id": "cr4_QvhMBAap",
    "outputId": "998888b5-7dee-4839-92bc-23c92a5a85ad"
   },
   "outputs": [
    {
     "name": "stdout",
     "output_type": "stream",
     "text": [
      "5\n",
      "7\n",
      "9\n"
     ]
    }
   ],
   "source": [
    "# if we pass three inputs to range(x,y,z) it generates a list from x to y using a step or increment of size z. z can be negative or positive.\n",
    "for i in range(5,10,2):\n",
    "  print(i)"
   ]
  },
  {
   "cell_type": "code",
   "execution_count": null,
   "metadata": {
    "colab": {
     "base_uri": "https://localhost:8080/"
    },
    "id": "dFt1JaQpHn3l",
    "outputId": "fc076edc-b710-43d0-9f40-d4095dc7cad2"
   },
   "outputs": [
    {
     "name": "stdout",
     "output_type": "stream",
     "text": [
      "1\n",
      "2\n",
      "3\n",
      "dog\n",
      "cat\n",
      "end of list (indexing)\n",
      "\n",
      "1\n",
      "2\n",
      "3\n",
      "dog\n",
      "cat\n",
      "end of list (iterate over elements)\n"
     ]
    }
   ],
   "source": [
    "# Finally, we can use this to access elements of a list.\n",
    "a_list = [1,2,3,\"dog\",\"cat\"]\n",
    "for i in range(len(a_list)):\n",
    "    print(a_list[i])\n",
    "print(\"end of list (indexing)\")\n",
    "print()\n",
    "\n",
    "for item in a_list:\n",
    "    print(item)\n",
    "print(\"end of list (iterate over elements)\")"
   ]
  },
  {
   "cell_type": "markdown",
   "metadata": {
    "id": "mJHTprLKQhv7"
   },
   "source": [
    "### While Loops:\n",
    "On the other hand while loops will allow you to keep running a block of code until a condition is met. While a for loop can do the same thing as a while loop, they have different strengths for different use cases. \n",
    "\n",
    "Typically, use a while loop when you don't know how many times you will iterate and use a for-loop when you have a set numbers of times to iterate.\n",
    "\n",
    "Ex. Guessing a password"
   ]
  },
  {
   "cell_type": "code",
   "execution_count": null,
   "metadata": {
    "colab": {
     "base_uri": "https://localhost:8080/"
    },
    "id": "mw5YW8hgQhv7",
    "outputId": "8b3d5e8a-1521-4fb4-97d3-ec8781260cbc"
   },
   "outputs": [
    {
     "name": "stdout",
     "output_type": "stream",
     "text": [
      "1\n",
      "2\n",
      "3\n",
      "dog\n",
      "cat\n",
      "fish\n",
      "dog\n"
     ]
    }
   ],
   "source": [
    "# This accomplishes the same thing as the above for loop\n",
    "# We would generally use the for loop instead of while loop in this case\n",
    "i = 0\n",
    "a_list = [1,2,3,\"dog\",\"cat\",\"fish\",\"dog\"]\n",
    "while i < len(a_list):\n",
    "    print(a_list[i])\n",
    "    i = i + 1\n",
    "    \n",
    "# Unlike the for loop, you need to manually increment your index variable so that the while loop doesn't run forever"
   ]
  },
  {
   "cell_type": "markdown",
   "metadata": {
    "id": "PMhOzWt3Qhv8"
   },
   "source": [
    "In the above example, theres not really a reason to use a while loop instead of a for loop. But a while loop's condition can be anything, so it can be really powerful."
   ]
  },
  {
   "cell_type": "code",
   "execution_count": null,
   "metadata": {
    "colab": {
     "base_uri": "https://localhost:8080/"
    },
    "id": "NO3-5sAqQhv8",
    "outputId": "6af5316e-538a-48db-c193-43ecf38988a6"
   },
   "outputs": [
    {
     "name": "stdout",
     "output_type": "stream",
     "text": [
      "1\n",
      "2\n",
      "3\n"
     ]
    }
   ],
   "source": [
    "# In this instance, the condition to loop is whether the item at the index in the list is not a string\n",
    "# As soon as the item at the current index is a string, we exit loop\n",
    "i = 0\n",
    "a_list = [1,2,3,\"dog\",\"cat\",\"fish\",\"dog\"]\n",
    "while type(a_list[i]) is not str:\n",
    "    print(a_list[i])\n",
    "    i = i + 1"
   ]
  },
  {
   "cell_type": "markdown",
   "metadata": {
    "id": "PFLJDGqDQhv9"
   },
   "source": [
    "Because anything that evaluates to a boolean can be used as a condition, we can use True and have a while loop run forever.\n",
    "\n",
    "If we need to get out early, we can use the command break, which will always get you out of the most recent loop.\n"
   ]
  },
  {
   "cell_type": "code",
   "execution_count": null,
   "metadata": {
    "colab": {
     "base_uri": "https://localhost:8080/"
    },
    "id": "K7PzacIqQhv9",
    "outputId": "12b54ae7-c234-4b28-9202-cbb8085ab712"
   },
   "outputs": [
    {
     "name": "stdout",
     "output_type": "stream",
     "text": [
      "Hello! 0\n",
      "Hello! 1\n",
      "Hello! 2\n",
      "Hello! 3\n",
      "Hello! 4\n",
      "Hello! 5\n",
      "Breaking out of while loop\n",
      "\n"
     ]
    }
   ],
   "source": [
    "i = 0\n",
    "while True:\n",
    "    print(\"Hello! \" + str(i))\n",
    "    if i >= 5:\n",
    "        print(\"Breaking out of while loop\" + \"\\n\")\n",
    "        break\n",
    "    i += 1"
   ]
  },
  {
   "cell_type": "code",
   "execution_count": null,
   "metadata": {
    "colab": {
     "base_uri": "https://localhost:8080/"
    },
    "id": "TKvtKLy1MnoF",
    "outputId": "cdf36b34-09ed-4f4c-bab5-b54019e54760"
   },
   "outputs": [
    {
     "name": "stdout",
     "output_type": "stream",
     "text": [
      "Current animal: snake\n",
      "Not a dog.\n",
      "Current animal: elephant\n",
      "Not a dog.\n",
      "Current animal: mouse\n",
      "Not a dog.\n",
      "Current animal: dog\n",
      "Breaking out of while loop.\n"
     ]
    }
   ],
   "source": [
    "# break command also works with for loops\n",
    "a_list = [\"snake\", \"elephant\", \"mouse\", \"dog\", \"cat\", \"fish\", \"dog\"]\n",
    "\n",
    "for animal in a_list:\n",
    "    print(\"Current animal: \" + str(animal))\n",
    "    if animal == \"dog\":\n",
    "        print(\"Breaking out of while loop.\")\n",
    "        break\n",
    "    else:\n",
    "        print(\"Not a dog.\")"
   ]
  },
  {
   "cell_type": "markdown",
   "metadata": {
    "id": "6eNLEo1NQhv9"
   },
   "source": [
    "### Functions:\n",
    "\n",
    "Now that we have learned the basics, we are ready for functions, We've already been using them. When we want to use a function we use the f_name() format. So print(), range(), len(), type() are all functions python already gives to us!\n",
    "\n",
    "Functions are sections of code that are CALLABLE and perform a specific task. \n",
    "\n",
    "Callable means that throughout our code we can \"summon\" that code we created once to run with a function call. \n",
    "\n",
    "A function WILL NOT run unless called.\n",
    "\n",
    "A Parameter is a variable we can pass into a function in order to change the function's behavior"
   ]
  },
  {
   "cell_type": "code",
   "execution_count": null,
   "metadata": {
    "id": "epPwbXEaQhv-"
   },
   "outputs": [],
   "source": [
    "# We use def to define a function, then all parameters are inside the parenthesis\n",
    "# This function multiplies 2 numbers together and returns the result\n",
    "\n",
    "def my_func(x, y):     \n",
    "    z = x * y\n",
    "    if z > 0:\n",
    "        print(z)\n",
    "    return z # return statements are optional.\n",
    "\n",
    "# Functions with a return statement can pass its operation result into another variable"
   ]
  },
  {
   "cell_type": "code",
   "execution_count": null,
   "metadata": {
    "colab": {
     "base_uri": "https://localhost:8080/"
    },
    "id": "W7OBhYx9Qhv-",
    "outputId": "e269d055-7998-4450-b06e-2515a7da329a"
   },
   "outputs": [
    {
     "name": "stdout",
     "output_type": "stream",
     "text": [
      "6\n",
      "-8\n"
     ]
    }
   ],
   "source": [
    "# Now we will test our function\n",
    "my_func(2, 3)\n",
    "return_val = my_func(-2, 4)\n",
    "print(return_val)\n",
    "# Notice how these variables now contain what we specified by the return statement"
   ]
  },
  {
   "cell_type": "markdown",
   "metadata": {
    "id": "RCordUCbQhv-"
   },
   "source": [
    "Today we have learned everything from the basic Python types, all the way up to crafting simple functions. This is as far as this lesson will go. If anyone has any questions, I would be happy to clarify now!"
   ]
  }
 ],
 "metadata": {
  "colab": {
   "provenance": [],
   "include_colab_link": true
  },
  "kernelspec": {
   "display_name": "myenv",
   "language": "python",
   "name": "myenv"
  },
  "language_info": {
   "codemirror_mode": {
    "name": "ipython",
    "version": 3
   },
   "file_extension": ".py",
   "mimetype": "text/x-python",
   "name": "python",
   "nbconvert_exporter": "python",
   "pygments_lexer": "ipython3",
   "version": "3.9.12"
  },
  "vscode": {
   "interpreter": {
    "hash": "ec097131899e94b66af6538ba0a72a31cc5f4683721812f596a030ea0bd94a20"
   }
  }
 },
 "nbformat": 4,
 "nbformat_minor": 0
}